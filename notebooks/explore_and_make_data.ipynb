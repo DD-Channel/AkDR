{
 "cells": [
  {
   "cell_type": "markdown",
   "metadata": {},
   "source": [
    "## 探索"
   ]
  },
  {
   "cell_type": "markdown",
   "metadata": {},
   "source": [
    "### json 数据探索\n",
    "\n",
    "包依赖\n",
    "+ json\n",
    "+ pypinyin\n",
    "\n",
    "json 数据 github 上有。(ArknightsGameData)\n",
    "\n",
    "目前探索了以下几个文件\n",
    "+ `item_table.json` 物品对照表\n",
    "+ `stage_table.json` 关卡掉落表"
   ]
  },
  {
   "cell_type": "code",
   "execution_count": 1,
   "metadata": {},
   "outputs": [],
   "source": [
    "import json"
   ]
  },
  {
   "cell_type": "code",
   "execution_count": 2,
   "metadata": {},
   "outputs": [
    {
     "name": "stdout",
     "output_type": "stream",
     "text": [
      "{'itemId': '5001', 'name': '声望', 'description': '做得很好，就这样继续变强吧。只要坚持不懈，所有的心血都不会白费的。', 'rarity': 4, 'iconId': 'EXP_PLAYER', 'overrideBkg': None, 'stackIconId': None, 'sortId': -1, 'usage': '战斗结束后获得的经验。足以见证博士的成长。', 'obtainApproach': '战斗获取', 'itemType': 'EXP_PLAYER', 'stageDropList': [], 'buildingProductList': []}\n"
     ]
    }
   ],
   "source": [
    "# item_table.json 物品对照表\n",
    "json_items_data = None\n",
    "\n",
    "with open('ArknightsGameData/excel/item_table.json', 'r', encoding='utf8') as f:\n",
    "    json_str = f.read()\n",
    "    json_data = json.loads(json_str)\n",
    "    print(json_data[\"items\"][\"5001\"])"
   ]
  },
  {
   "cell_type": "code",
   "execution_count": 3,
   "metadata": {},
   "outputs": [
    {
     "name": "stdout",
     "output_type": "stream",
     "text": [
      "dict_keys(['items', 'expItems', 'potentialItems'])\n",
      "dict_keys(['5001', 'SOCIAL_PT', 'AP_GAMEPLAY', '4001', '4002', '4003', '4004', '4005', '4006', '2001', '2002', '2003', '2004', '6001', '7001', '7002', '7003', '7004', '3003', '30011', '30012', '30013', '30014', '30061', '30062', '30063', '30064', '30031', '30032', '30033', '30034', '30021', '30022', '30023', '30024', '30041', '30042', '30043', '30044', '30051', '30052', '30053', '30054', '30073', '30074', '30083', '30084', '30093', '30094', '30103', '30104', '30115', '30125', '30135', '3301', '3302', '3303', 'base_ap', '3105', '3112', '3113', '3114', '3131', '3132', '3133', '3141', '32001', '3211', '3212', '3213', '3221', '3222', '3223', '3231', '3232', '3233', '3241', '3242', '3243', '3251', '3252', '3253', '3261', '3262', '3263', '3271', '3272', '3273', '3281', '3282', '3283', '3401', 'tier1_pioneer', 'tier1_guard', 'tier1_sniper', 'tier1_tank', 'tier1_medic', 'tier1_supporter', 'tier1_caster', 'tier1_special', 'tier2_pioneer', 'tier2_guard', 'tier2_sniper', 'tier2_tank', 'tier2_medic', 'tier2_supporter', 'tier2_caster', 'tier2_special', 'tier3_pioneer', 'tier3_guard', 'tier3_sniper', 'tier3_tank', 'tier3_medic', 'tier3_supporter', 'tier3_caster', 'tier3_special', 'tier4_pioneer', 'tier4_guard', 'tier4_sniper', 'tier4_tank', 'tier4_medic', 'tier4_supporter', 'tier4_caster', 'tier4_special', 'tier5_pioneer', 'tier5_guard', 'tier5_sniper', 'tier5_tank', 'tier5_medic', 'tier5_supporter', 'tier5_caster', 'tier5_special', 'tier6_pioneer', 'tier6_guard', 'tier6_sniper', 'tier6_tank', 'tier6_medic', 'tier6_supporter', 'tier6_caster', 'tier6_special', 'p_char_285_medic2', 'p_char_286_cast3', 'p_char_502_nblade', 'p_char_500_noirc', 'p_char_503_rang', 'p_char_501_durin', 'p_char_009_12fce', 'p_char_123_fang', 'p_char_240_wyvern', 'p_char_192_falco', 'p_char_208_melan', 'p_char_209_ardign', 'p_char_122_beagle', 'p_char_124_kroos', 'p_char_211_adnach', 'p_char_121_lava', 'p_char_120_hibisc', 'p_char_212_ansel', 'p_char_210_stward', 'p_char_278_orchid', 'p_char_141_nights', 'p_char_109_fmout', 'p_char_235_jesica', 'p_char_126_shotst', 'p_char_118_yuki', 'p_char_198_blackd', 'p_char_149_scave', 'p_char_290_vigna', 'p_char_130_doberm', 'p_char_289_gyuki', 'p_char_193_frostl', 'p_char_127_estell', 'p_char_185_frncat', 'p_char_237_gravel', 'p_char_236_rope', 'p_char_117_myrrh', 'p_char_187_ccheal', 'p_char_181_flower', 'p_char_199_yak', 'p_char_150_snakek', 'p_char_196_sunbr', 'p_char_110_deepcl', 'p_char_183_skgoat', 'p_char_277_sqrrel', 'p_char_128_plosis', 'p_char_115_headbr', 'p_char_102_texas', 'p_char_106_franka', 'p_char_155_tiger', 'p_char_140_whitew', 'p_char_143_ghost', 'p_char_129_bluep', 'p_char_204_platnm', 'p_char_219_meteo', 'p_char_002_amiya', 'p_char_166_skfire', 'p_char_242_otter', 'p_char_108_silent', 'p_char_171_bldsk', 'p_char_148_nearl', 'p_char_144_red', 'p_char_107_liskam', 'p_char_201_moeshd', 'p_char_163_hpsts', 'p_char_145_prove', 'p_char_158_milu', 'p_char_173_slchan', 'p_char_174_slbell', 'p_char_195_glassb', 'p_char_101_sora', 'p_char_215_mantic', 'p_char_241_panda', 'p_char_103_angel', 'p_char_112_siege', 'p_char_134_ifrit', 'p_char_180_amgoat', 'p_char_291_aglina', 'p_char_147_shining', 'p_char_179_cgbird', 'p_char_136_hsguma', 'p_char_202_demkni', 'p_char_172_svrash', 'bilibili001', 'ap_item_amiya', 'ap_item_chen', 'ap_item_texas', 'ap_item_doberm', 'ap_item_jesica', 'ap_item_cast3', 'ap_item_closure', 'ap_item_catap', 'ap_item_blackd', 'ap_item_slchan', 'ap_item_SEC_60', 'ap_item_CaH_200', 'p_char_282_catap', 'p_char_283_midn', 'p_char_137_brownb', 'p_char_164_nightm', 'p_char_220_grani', 'p_char_263_skadi', '1stact'])\n",
      "['5001', '4001', '4002', '4003', '4004', '4005', '4006', '2001', '2002', '2003', '2004', '6001', '7001', '7002', '7003', '7004', '3003', '30011', '30012', '30013', '30014', '30061', '30062', '30063', '30064', '30031', '30032', '30033', '30034', '30021', '30022', '30023', '30024', '30041', '30042', '30043', '30044', '30051', '30052', '30053', '30054', '30073', '30074', '30083', '30084', '30093', '30094', '30103', '30104', '30115', '30125', '30135', '3301', '3302', '3303', '3105', '3112', '3113', '3114', '3131', '3132', '3133', '3141', '32001', '3211', '3212', '3213', '3221', '3222', '3223', '3231', '3232', '3233', '3241', '3242', '3243', '3251', '3252', '3253', '3261', '3262', '3263', '3271', '3272', '3273', '3281', '3282', '3283', '3401']\n"
     ]
    }
   ],
   "source": [
    "print(json_data.keys()) # 三大类\n",
    "print(json_data[\"items\"].keys()) # 物品+任务掉落+其他物品\n",
    "item_ids = list(filter(lambda i: len(i)<=5, json_data[\"items\"].keys())) # 通过长度过滤出物品\n",
    "print(item_ids) # 普通物体"
   ]
  },
  {
   "cell_type": "code",
   "execution_count": 4,
   "metadata": {},
   "outputs": [
    {
     "name": "stdout",
     "output_type": "stream",
     "text": [
      "89 {'5001': ('shengwang', '声望'), '4001': ('lmb', '龙门币'), '4002': ('zcys', '至纯源石'), '4003': ('hcy', '合成玉'), '4004': ('gjpz', '高级凭证'), '4005': ('zzpz', '资质凭证'), '4006': ('cgpz', '采购凭证'), '2001': ('jczzjl', '基础作战记录'), '2002': ('cjzzjl', '初级作战记录'), '2003': ('zjzzjl', '中级作战记录'), '2004': ('gjzzjl', '高级作战记录'), '6001': ('yxq', '演习券'), '7001': ('zpxk', '招聘许可'), '7002': ('jjxk', '加急许可'), '7003': ('xfpz', '寻访凭证'), '7004': ('slxfpz', '十连寻访凭证'), '3003': ('chijin', '赤金'), '30011': ('yuanyan', '源岩'), '30012': ('gyy', '固源岩'), '30013': ('gyyz', '固源岩组'), '30014': ('tcyy', '提纯源岩'), '30061': ('pszz', '破损装置'), '30062': ('zhuangzhi', '装置'), '30063': ('qxzz', '全新装置'), '30064': ('glzz', '改量装置'), '30031': ('zyl', '酯原料'), '30032': ('jsz', '聚酸酯'), '30033': ('jszz', '聚酸酯组'), '30034': ('jszk', '聚酸酯块'), '30021': ('daitang', '代糖'), '30022': ('tang', '糖'), '30023': ('tangzu', '糖组'), '30024': ('tjk', '糖聚块'), '30041': ('ytsp', '异铁碎片'), '30042': ('yitie', '异铁'), '30043': ('ytz', '异铁组'), '30044': ('ytk', '异铁块'), '30051': ('shuangtong', '双酮'), '30052': ('tnj', '酮凝集'), '30053': ('tnjz', '酮凝集组'), '30054': ('tzl', '酮阵列'), '30073': ('nzc', '扭转醇'), '30074': ('bmc', '白马醇'), '30083': ('qmk', '轻锰矿'), '30084': ('ssmk', '三水锰矿'), '30093': ('yms', '研磨石'), '30094': ('wsyms', '五水研磨石'), '30103': ('RMA70-12', 'RMA70-12'), '30104': ('RMA70-24', 'RMA70-24'), '30115': ('jhj', '聚合剂'), '30125': ('sjnmp', '双极纳米片'), '30135': ('D32gang', 'D32钢'), '3301': ('jqgy1', '技巧概要·卷1'), '3302': ('jqgy2', '技巧概要·卷2'), '3303': ('jqgy3', '技巧概要·卷3'), '3105': ('longgu', '龙骨'), '3112': ('tan', '碳'), '3113': ('tansu', '碳素'), '3114': ('tsz', '碳素组'), '3131': ('jcjgjc', '基础加固建材'), '3132': ('jjjgjc', '进阶加固建材'), '3133': ('gjjgjc', '高级加固建材'), '3141': ('yssp', '源石碎片'), '32001': ('xpzj', '芯片助剂'), '3211': ('xfxp', '先锋芯片'), '3212': ('xfxpz', '先锋芯片组'), '3213': ('xfsxp', '先锋双芯片'), '3221': ('jwxp', '近卫芯片'), '3222': ('jwxpz', '近卫芯片组'), '3223': ('jwsxp', '近卫双芯片'), '3231': ('zzxp', '重装芯片'), '3232': ('zzxpz', '重装芯片组'), '3233': ('zzsxp', '重装双芯片'), '3241': ('jjxp', '狙击芯片'), '3242': ('jjxpz', '狙击芯片组'), '3243': ('jjsxp', '狙击双芯片'), '3251': ('ssxp', '术师芯片'), '3252': ('ssxpz', '术师芯片组'), '3253': ('sssxp', '术师双芯片'), '3261': ('ylxp', '医疗芯片'), '3262': ('ylxpz', '医疗芯片组'), '3263': ('ylsxp', '医疗双芯片'), '3271': ('fzxp', '辅助芯片'), '3272': ('fzxpz', '辅助芯片组'), '3273': ('fzsxp', '辅助双芯片'), '3281': ('tzxp', '特种芯片'), '3282': ('tzxpz', '特种芯片组'), '3283': ('tzsxp', '特种双芯片'), '3401': ('jjlj', '家具零件')}\n"
     ]
    }
   ],
   "source": [
    "# 导入拼音模块，用于生成物品名\n",
    "from pypinyin import pinyin, lazy_pinyin, Style\n",
    "\n",
    "# 名称及缩写生成规则\n",
    "#   两个字，使用拼音全名\n",
    "#   三个字及以上，使用首字母缩写\n",
    "def make_item_name(name):\n",
    "    l = len(name)\n",
    "    if l<=2:\n",
    "        return \"\".join(name)\n",
    "    else:\n",
    "        return \"\".join(map(lambda x: x[0], name))\n",
    "\n",
    "# 快速转换用字典\n",
    "g_itemId2names_dict = {}  # 物品id => 物品名称 (缩写，中文全名)\n",
    "g_PinYin2itemId_dict = {} # 缩写 => 物品id\n",
    "g_PinYin2name_dict = {}   # 缩写 => 中文全名\n",
    "g_name2PinYin_dict = {}   # 中文全名=> 缩写\n",
    "\n",
    "for i in item_ids:\n",
    "    item_dict = json_data[\"items\"][i]\n",
    "    name = item_dict[\"name\"]\n",
    "    pinyin = make_item_name(lazy_pinyin(name))\n",
    "    if pinyin.startswith(\"jqgy\"): # 对 技巧概要·卷1 单独处理，去掉点·\n",
    "        pinyin = \"jqgy\" + pinyin[-1]\n",
    "    \n",
    "    g_itemId2names_dict[i] = (pinyin, name)\n",
    "    g_PinYin2itemId_dict[pinyin] = i\n",
    "    g_PinYin2name_dict[pinyin] = name\n",
    "    g_name2PinYin_dict[name] = pinyin\n",
    "    \n",
    "print(len(g_itemId2names_dict), g_itemId2names_dict)"
   ]
  },
  {
   "cell_type": "code",
   "execution_count": 5,
   "metadata": {},
   "outputs": [
    {
     "data": {
      "text/plain": [
       "('jszk', '聚酸酯块')"
      ]
     },
     "execution_count": 5,
     "metadata": {},
     "output_type": "execute_result"
    }
   ],
   "source": [
    "g_itemId2names_dict[\"30034\"]"
   ]
  },
  {
   "cell_type": "code",
   "execution_count": 6,
   "metadata": {},
   "outputs": [
    {
     "data": {
      "text/plain": [
       "'3112'"
      ]
     },
     "execution_count": 6,
     "metadata": {},
     "output_type": "execute_result"
    }
   ],
   "source": [
    "g_PinYin2itemId_dict[\"tan\"]"
   ]
  },
  {
   "cell_type": "code",
   "execution_count": 7,
   "metadata": {},
   "outputs": [
    {
     "data": {
      "text/plain": [
       "'合成玉'"
      ]
     },
     "execution_count": 7,
     "metadata": {},
     "output_type": "execute_result"
    }
   ],
   "source": [
    "g_PinYin2name_dict[\"hcy\"]"
   ]
  },
  {
   "cell_type": "code",
   "execution_count": 8,
   "metadata": {},
   "outputs": [
    {
     "data": {
      "text/plain": [
       "'hcy'"
      ]
     },
     "execution_count": 8,
     "metadata": {},
     "output_type": "execute_result"
    }
   ],
   "source": [
    "g_name2PinYin_dict[\"合成玉\"]"
   ]
  },
  {
   "cell_type": "markdown",
   "metadata": {},
   "source": [
    "----"
   ]
  },
  {
   "cell_type": "code",
   "execution_count": 9,
   "metadata": {},
   "outputs": [
    {
     "name": "stdout",
     "output_type": "stream",
     "text": [
      "{'stageType': 'MAIN', 'difficulty': 'NORMAL', 'unlockCondition': [], 'stageId': 'main_00-01', 'levelId': 'Obt/Main/level_main_00-01', 'zoneId': 'main_0', 'code': '0-1', 'name': '坍塌', 'description': '三点方向出现了敌人的先锋部队，请部署近战干员进行拦截。', 'hardStagedId': 'main_00-01#f#', 'dangerLevel': 'LV.1', 'dangerPoint': -1.0, 'loadingPicId': 'loading1', 'canPractice': True, 'canBattleReplay': True, 'apCost': 6, 'apFailReturn': 5, 'diamondOnceDrop': 1, 'practiceTicketCost': 1, 'dailyStageDifficulty': -1, 'expGain': 60, 'goldGain': 60, 'loseExpGain': 0, 'loseGoldGain': 0, 'passFavor': 5, 'completeFavor': 6, 'slProgress': 1, 'apProtectTimes': 1, 'displayMainItem': '', 'hilightMark': False, 'bossMark': False, 'isPredefined': False, 'appearanceStyle': 0, 'stageDropInfo': {'firstPassRewards': None, 'passRewards': None, 'completeRewards': None, 'displayRewards': [{'type': 'TKT_RECRUIT', 'id': '7001', 'dropType': 1}, {'type': 'CARD_EXP', 'id': '2001', 'dropType': 2}], 'displayDetailRewards': [{'occPercent': 0, 'type': 'TKT_RECRUIT', 'id': '7001', 'dropType': 1}, {'occPercent': 0, 'type': 'CARD_EXP', 'id': '2001', 'dropType': 2}, {'occPercent': 4, 'type': 'MATERIAL', 'id': '30011', 'dropType': 4}, {'occPercent': 4, 'type': 'MATERIAL', 'id': '30021', 'dropType': 4}, {'occPercent': 4, 'type': 'MATERIAL', 'id': '30031', 'dropType': 4}, {'occPercent': 4, 'type': 'MATERIAL', 'id': '30041', 'dropType': 4}, {'occPercent': 4, 'type': 'MATERIAL', 'id': '30051', 'dropType': 4}, {'occPercent': 4, 'type': 'MATERIAL', 'id': '30061', 'dropType': 4}, {'occPercent': 4, 'type': 'MATERIAL', 'id': '3003', 'dropType': 4}, {'occPercent': 4, 'type': 'FURN', 'id': 'furni_s1_bed_01', 'dropType': 7}, {'occPercent': 4, 'type': 'FURN', 'id': 'furni_s1_nightstand_01', 'dropType': 7}, {'occPercent': 4, 'type': 'FURN', 'id': 'furni_s1_tv_01', 'dropType': 7}, {'occPercent': 4, 'type': 'FURN', 'id': 'furni_s1_clock_01', 'dropType': 7}, {'occPercent': 4, 'type': 'FURN', 'id': 'furni_s1_sofa_02', 'dropType': 7}, {'occPercent': 4, 'type': 'FURN', 'id': 'furni_s1_coffeetable_02', 'dropType': 7}, {'occPercent': 4, 'type': 'FURN', 'id': 'furni_s1_carpet_02', 'dropType': 7}, {'occPercent': 4, 'type': 'FURN', 'id': 'furni_s1_bulletinboard_02', 'dropType': 7}, {'occPercent': 4, 'type': 'FURN', 'id': 'furni_wooden_loftBed_01', 'dropType': 7}, {'occPercent': 4, 'type': 'FURN', 'id': 'furni_wooden_fireplace_01', 'dropType': 7}, {'occPercent': 4, 'type': 'FURN', 'id': 'furni_wooden_woodBasket_01', 'dropType': 7}, {'occPercent': 4, 'type': 'FURN', 'id': 'furni_wooden_rockingChair_01', 'dropType': 7}, {'occPercent': 0, 'type': 'CARD_EXP', 'id': '2001', 'dropType': 4}]}, 'mainStageId': 'main_00-01'}\n"
     ]
    }
   ],
   "source": [
    "# stage_table.json 关卡掉落表\n",
    "\n",
    "json_stage_data = None\n",
    "with open('ArknightsGameData/excel/stage_table.json', 'r', encoding='utf8') as f:\n",
    "    json_str = f.read()\n",
    "    json_stage_data = json.loads(json_str)\n",
    "    print(json_stage_data[\"stages\"][\"main_00-01\"])"
   ]
  },
  {
   "cell_type": "code",
   "execution_count": 10,
   "metadata": {},
   "outputs": [
    {
     "name": "stdout",
     "output_type": "stream",
     "text": [
      "三大类 dict_keys(['stages', 'campaigns', 'campaignGroups', 'mapThemes'])\n",
      "\n",
      "关卡数据： dict_keys(['main_00-01', 'main_00-01#f#', 'tr_01', 'main_00-02', 'main_00-02#f#', 'tr_02', 'main_00-03', 'main_00-03#f#', 'tr_03', 'main_00-04', 'main_00-04#f#', 'tr_04', 'main_00-05', 'main_00-05#f#', 'main_00-06', 'main_00-06#f#', 'tr_05', 'main_00-07', 'main_00-07#f#', 'tr_06', 'main_00-08', 'main_00-08#f#', 'main_00-09', 'main_00-09#f#', 'tr_07', 'main_00-10', 'main_00-10#f#', 'main_00-11', 'main_00-11#f#', 'main_01-01', 'main_01-01#f#', 'main_01-02', 'main_01-03', 'main_01-03#f#', 'main_01-04', 'main_01-04#f#', 'main_01-05', 'main_01-05#f#', 'tr_08', 'main_01-06', 'main_01-06#f#', 'tr_09', 'main_01-07', 'main_01-07#f#', 'main_01-08', 'main_01-08#f#', 'tr_10', 'main_01-09', 'main_01-09#f#', 'main_01-10', 'main_01-10#f#', 'main_01-11', 'main_01-12', 'main_01-12#f#', 'tr_11', 'main_02-01', 'main_02-01#f#', 'sub_02-01', 'main_02-02', 'main_02-02#f#', 'sub_02-02', 'sub_02-03', 'sub_02-04', 'main_02-03', 'main_02-03#f#', 'tr_12', 'main_02-04', 'main_02-04#f#', 'sub_02-05', 'sub_02-06', 'sub_02-07', 'tr_13', 'main_02-05', 'main_02-05#f#', 'main_02-06', 'main_02-06#f#', 'tr_14', 'main_02-07', 'main_02-07#f#', 'sub_02-08', 'sub_02-09', 'main_02-08', 'main_02-08#f#', 'main_02-09', 'main_02-09#f#', 'sub_02-10', 'sub_02-11', 'sub_02-12', 'main_02-10', 'main_02-10#f#', 'main_03-01', 'main_03-01#f#', 'main_03-02', 'main_03-02#f#', 'main_03-03', 'main_03-03#f#', 'tr_15', 'main_03-04', 'main_03-04#f#', 'main_03-05', 'main_03-05#f#', 'main_03-06', 'main_03-06#f#', 'main_03-07', 'main_03-07#f#', 'main_03-08', 'main_03-08#f#', 'main_04-01', 'main_04-01#f#', 'main_04-02', 'main_04-02#f#', 'main_04-03', 'main_04-03#f#', 'main_04-04', 'main_04-04#f#', 'main_04-05', 'main_04-05#f#', 'main_04-06', 'main_04-06#f#', 'main_04-07', 'main_04-07#f#', 'main_04-08', 'main_04-08#f#', 'main_04-09', 'main_04-09#f#', 'main_04-10', 'main_04-10#f#', 'sub_03-1-1', 'sub_03-1-2', 'sub_03-2-1', 'sub_03-2-2', 'sub_03-2-3', 'sub_04-1-1', 'sub_04-1-2', 'sub_04-1-3', 'sub_04-2-1', 'sub_04-2-2', 'sub_04-2-3', 'sub_04-3-1', 'sub_04-3-2', 'sub_04-3-3', 'wk_melee_1', 'wk_melee_2', 'wk_melee_3', 'wk_melee_4', 'wk_melee_5', 'wk_armor_1', 'wk_armor_2', 'wk_armor_3', 'wk_armor_4', 'wk_armor_5', 'wk_kc_1', 'wk_kc_2', 'wk_kc_3', 'wk_kc_4', 'wk_kc_5', 'wk_toxic_1', 'wk_toxic_2', 'wk_toxic_3', 'wk_toxic_4', 'wk_toxic_5', 'wk_fly_1', 'wk_fly_2', 'wk_fly_3', 'wk_fly_4', 'wk_fly_5', 'pro_a_1', 'pro_a_2', 'pro_b_1', 'pro_b_2', 'pro_c_1', 'pro_c_2', 'pro_d_1', 'pro_d_2', 'guide_01', 'guide_02', 'a001_01', 'a001_02', 'a001_03', 'a001_04', 'a001_05', 'a001_06', 'a001_ex01', 'a001_ex02', 'a001_ex03', 'a001_ex04', 'a001_ex04#f#', 'a001_ex05', 'a001_ex05#f#', 'a001_ex06', 'a001_ex06#f#', 'camp_01', 'camp_02'])\n",
      "\n",
      "过滤完关卡个数:  126\n",
      "['main_00-01', 'main_00-02', 'main_00-03', 'main_00-04', 'main_00-05', 'main_00-06', 'main_00-07', 'main_00-08', 'main_00-09', 'main_00-10', 'main_00-11', 'main_01-01', 'main_01-02', 'main_01-03', 'main_01-04', 'main_01-05', 'main_01-06', 'main_01-07', 'main_01-08', 'main_01-09', 'main_01-10', 'main_01-11', 'main_01-12', 'main_02-01', 'sub_02-01', 'main_02-02', 'sub_02-02', 'sub_02-03', 'sub_02-04', 'main_02-03', 'main_02-04', 'sub_02-05', 'sub_02-06', 'sub_02-07', 'main_02-05', 'main_02-06', 'main_02-07', 'sub_02-08', 'sub_02-09', 'main_02-08', 'main_02-09', 'sub_02-10', 'sub_02-11', 'sub_02-12', 'main_02-10', 'main_03-01', 'main_03-02', 'main_03-03', 'main_03-04', 'main_03-05', 'main_03-06', 'main_03-07', 'main_03-08', 'main_04-01', 'main_04-02', 'main_04-03', 'main_04-04', 'main_04-05', 'main_04-06', 'main_04-07', 'main_04-08', 'main_04-09', 'main_04-10', 'sub_03-1-1', 'sub_03-1-2', 'sub_03-2-1', 'sub_03-2-2', 'sub_03-2-3', 'sub_04-1-1', 'sub_04-1-2', 'sub_04-1-3', 'sub_04-2-1', 'sub_04-2-2', 'sub_04-2-3', 'sub_04-3-1', 'sub_04-3-2', 'sub_04-3-3', 'wk_melee_1', 'wk_melee_2', 'wk_melee_3', 'wk_melee_4', 'wk_melee_5', 'wk_armor_1', 'wk_armor_2', 'wk_armor_3', 'wk_armor_4', 'wk_armor_5', 'wk_kc_1', 'wk_kc_2', 'wk_kc_3', 'wk_kc_4', 'wk_kc_5', 'wk_toxic_1', 'wk_toxic_2', 'wk_toxic_3', 'wk_toxic_4', 'wk_toxic_5', 'wk_fly_1', 'wk_fly_2', 'wk_fly_3', 'wk_fly_4', 'wk_fly_5', 'pro_a_1', 'pro_a_2', 'pro_b_1', 'pro_b_2', 'pro_c_1', 'pro_c_2', 'pro_d_1', 'pro_d_2', 'guide_01', 'guide_02', 'a001_01', 'a001_02', 'a001_03', 'a001_04', 'a001_05', 'a001_06', 'a001_ex01', 'a001_ex02', 'a001_ex03', 'a001_ex04', 'a001_ex05', 'a001_ex06', 'camp_01', 'camp_02']\n"
     ]
    }
   ],
   "source": [
    "print(\"三大类\", json_stage_data.keys()) # 三大类\n",
    "_stages = json_stage_data[\"stages\"].keys()\n",
    "print(\"\\n关卡数据：\", _stages)\n",
    "\n",
    "# 过滤掉以 #f# 结尾的关卡，以及训练关卡\n",
    "all_stages = list(filter(lambda s: not (s.endswith(\"#f#\") or s.startswith(\"tr\")), json_stage_data[\"stages\"].keys()))\n",
    "print(\"\\n过滤完关卡个数: \", len(all_stages)) # 普通物体\n",
    "print(all_stages)"
   ]
  },
  {
   "cell_type": "code",
   "execution_count": 11,
   "metadata": {},
   "outputs": [
    {
     "name": "stdout",
     "output_type": "stream",
     "text": [
      "{'main_00-01': [['jczzjl'], [], ['yuanyan', 'daitang', 'zyl', 'ytsp', 'shuangtong', 'pszz', 'chijin', 'jczzjl'], 'jiaju'], 'main_00-02': [['jczzjl'], [], ['yuanyan', 'daitang', 'zyl', 'ytsp', 'shuangtong', 'pszz', 'chijin', 'jczzjl'], 'jiaju'], 'main_00-03': [['jczzjl'], [], ['yuanyan', 'daitang', 'zyl', 'ytsp', 'shuangtong', 'pszz', 'chijin', 'jczzjl'], 'jiaju'], 'main_00-04': [['jczzjl'], [], ['yuanyan', 'daitang', 'zyl', 'ytsp', 'shuangtong', 'pszz', 'chijin', 'jczzjl'], 'jiaju'], 'main_00-05': [['jczzjl'], [], ['yuanyan', 'daitang', 'zyl', 'ytsp', 'shuangtong', 'pszz', 'chijin', 'jczzjl'], 'jiaju'], 'main_00-06': [['jczzjl'], [], ['yuanyan', 'daitang', 'zyl', 'ytsp', 'shuangtong', 'pszz', 'chijin', 'jczzjl'], 'jiaju'], 'main_00-07': [['daitang'], [], ['yuanyan', 'daitang', 'zyl', 'ytsp', 'shuangtong', 'pszz', 'chijin', 'jczzjl'], 'jiaju'], 'main_00-08': [['jczzjl'], [], ['yuanyan', 'daitang', 'zyl', 'ytsp', 'shuangtong', 'pszz', 'chijin', 'jczzjl'], 'jiaju'], 'main_00-09': [['yuanyan'], [], ['yuanyan', 'daitang', 'zyl', 'ytsp', 'shuangtong', 'pszz', 'chijin', 'jczzjl'], 'jiaju'], 'main_00-10': [['jczzjl'], [], ['yuanyan', 'daitang', 'zyl', 'ytsp', 'shuangtong', 'pszz', 'chijin', 'jczzjl'], 'jiaju'], 'main_00-11': [['zyl'], [], ['yuanyan', 'daitang', 'zyl', 'ytsp', 'shuangtong', 'pszz', 'chijin', 'jczzjl'], 'jiaju'], 'main_01-01': [['lmb'], [], ['yuanyan', 'daitang', 'zyl', 'ytsp', 'shuangtong', 'pszz', 'chijin', 'jczzjl'], 'jiaju'], 'main_01-02': [[], [], [], ''], 'main_01-03': [['ytsp'], [], ['yuanyan', 'daitang', 'zyl', 'ytsp', 'shuangtong', 'pszz', 'chijin', 'jczzjl'], 'jiaju'], 'main_01-04': [[], [], ['yuanyan', 'daitang', 'zyl', 'ytsp', 'shuangtong', 'pszz', 'chijin', 'jczzjl'], 'jiaju'], 'main_01-05': [['pszz'], [], ['yuanyan', 'daitang', 'zyl', 'ytsp', 'shuangtong', 'pszz', 'chijin', 'jczzjl'], 'jiaju'], 'main_01-06': [['shuangtong'], [], ['yuanyan', 'daitang', 'zyl', 'ytsp', 'shuangtong', 'pszz', 'chijin', 'jczzjl'], 'jiaju'], 'main_01-07': [['gyy'], [], ['yuanyan', 'daitang', 'zyl', 'ytsp', 'shuangtong', 'pszz', 'chijin', 'jczzjl'], 'jiaju'], 'main_01-08': [['jsz'], [], ['yuanyan', 'daitang', 'zyl', 'ytsp', 'shuangtong', 'pszz', 'chijin', 'jczzjl'], 'jiaju'], 'main_01-09': [['tan'], [], ['yuanyan', 'daitang', 'zyl', 'ytsp', 'shuangtong', 'pszz', 'chijin', 'jczzjl'], 'jiaju'], 'main_01-10': [['jqgy1'], [], ['yuanyan', 'daitang', 'zyl', 'ytsp', 'shuangtong', 'pszz', 'chijin', 'jczzjl'], 'jiaju'], 'main_01-11': [[], [], [], ''], 'main_01-12': [['zhuangzhi'], [], ['yuanyan', 'daitang', 'zyl', 'ytsp', 'shuangtong', 'pszz', 'chijin', 'jczzjl'], 'jiaju'], 'main_02-01': [['yitie'], [], ['yuanyan', 'daitang', 'zyl', 'ytsp', 'shuangtong', 'pszz', 'chijin', 'jczzjl'], 'jiaju'], 'sub_02-01': [['tnj'], [], ['yuanyan', 'daitang', 'zyl', 'ytsp', 'shuangtong', 'pszz', 'chijin', 'jczzjl'], 'jiaju'], 'main_02-02': [['tang'], [], ['yuanyan', 'daitang', 'zyl', 'ytsp', 'shuangtong', 'pszz', 'chijin', 'jczzjl'], 'jiaju'], 'sub_02-02': [['lmb'], [], ['yuanyan', 'daitang', 'zyl', 'ytsp', 'shuangtong', 'pszz', 'chijin', 'jczzjl'], 'jiaju'], 'sub_02-03': [['jczzjl'], [], ['yuanyan', 'daitang', 'zyl', 'ytsp', 'shuangtong', 'pszz', 'chijin', 'jczzjl'], 'jiaju'], 'sub_02-04': [[], [], ['yuanyan', 'daitang', 'zyl', 'ytsp', 'shuangtong', 'pszz', 'chijin', 'jczzjl'], 'jiaju'], 'main_02-03': [['pszz'], [], ['yuanyan', 'zyl', 'pszz', 'chijin', 'gyy', 'jsz', 'zhuangzhi', 'jczzjl'], 'jiaju'], 'main_02-04': [['gyyz'], [], ['yuanyan', 'zyl', 'pszz', 'chijin', 'gyy', 'jsz', 'zhuangzhi', 'jczzjl'], 'jiaju'], 'sub_02-05': [['yuanyan'], [], ['yuanyan', 'zyl', 'pszz', 'chijin', 'gyy', 'jsz', 'zhuangzhi', 'jczzjl'], 'jiaju'], 'sub_02-06': [['daitang'], [], ['daitang', 'ytsp', 'shuangtong', 'jczzjl', 'tang', 'yitie', 'tnj', 'cjzzjl'], 'jiaju'], 'sub_02-07': [['zyl'], [], ['yuanyan', 'zyl', 'pszz', 'chijin', 'gyy', 'jsz', 'zhuangzhi', 'jczzjl'], 'jiaju'], 'main_02-05': [['tangzu'], [], ['daitang', 'ytsp', 'shuangtong', 'jczzjl', 'tang', 'yitie', 'tnj', 'cjzzjl'], 'jiaju'], 'main_02-06': [['jszz'], [], ['yuanyan', 'zyl', 'pszz', 'chijin', 'gyy', 'jsz', 'zhuangzhi', 'jczzjl'], 'jiaju'], 'main_02-07': [['lmb'], [], ['daitang', 'ytsp', 'shuangtong', 'jczzjl', 'tang', 'yitie', 'tnj', 'cjzzjl'], 'jiaju'], 'sub_02-08': [['ytsp'], [], ['daitang', 'ytsp', 'shuangtong', 'jczzjl', 'tang', 'yitie', 'tnj', 'cjzzjl'], 'jiaju'], 'sub_02-09': [['shuangtong'], [], ['daitang', 'ytsp', 'shuangtong', 'jczzjl', 'tang', 'yitie', 'tnj', 'cjzzjl'], 'jiaju'], 'main_02-08': [['ytz'], [], ['daitang', 'ytsp', 'shuangtong', 'jczzjl', 'tang', 'yitie', 'tnj', 'cjzzjl'], 'jiaju'], 'main_02-09': [['nzc'], [], ['yuanyan', 'zyl', 'pszz', 'chijin', 'gyy', 'jsz', 'zhuangzhi', 'jczzjl'], 'jiaju'], 'sub_02-10': [['cjzzjl'], [], ['yuanyan', 'zyl', 'pszz', 'chijin', 'gyy', 'jsz', 'zhuangzhi', 'jczzjl'], 'jiaju'], 'sub_02-11': [[], [], ['daitang', 'ytsp', 'shuangtong', 'jczzjl', 'tang', 'yitie', 'tnj', 'cjzzjl'], 'jiaju'], 'sub_02-12': [['gyy'], [], ['yuanyan', 'zyl', 'pszz', 'chijin', 'gyy', 'jsz', 'zhuangzhi'], 'jiaju'], 'main_02-10': [['RMA70-12'], [], ['daitang', 'ytsp', 'shuangtong', 'jczzjl', 'tang', 'yitie', 'tnj', 'cjzzjl'], 'jiaju'], 'main_03-01': [['tnjz'], [], ['daitang', 'ytsp', 'shuangtong', 'jczzjl', 'tang', 'yitie', 'tnj', 'cjzzjl'], 'jiaju'], 'main_03-02': [['qmk'], [], ['yuanyan', 'zyl', 'pszz', 'chijin', 'gyy', 'jsz', 'zhuangzhi'], 'jiaju'], 'main_03-03': [['yms'], [], ['yuanyan', 'zyl', 'pszz', 'chijin', 'gyy', 'jsz', 'zhuangzhi'], 'jiaju'], 'main_03-04': [['qxzz'], [], ['yuanyan', 'zyl', 'pszz', 'chijin', 'gyy', 'jsz', 'zhuangzhi'], 'jiaju'], 'main_03-05': [['cjzzjl'], [], ['yuanyan', 'zyl', 'pszz', 'chijin', 'gyy', 'jsz', 'zhuangzhi'], 'jiaju'], 'main_03-06': [['lmb'], [], ['daitang', 'ytsp', 'shuangtong', 'jczzjl', 'tang', 'yitie', 'tnj', 'cjzzjl'], 'jiaju'], 'main_03-07': [['tnj'], [], ['daitang', 'ytsp', 'shuangtong', 'jczzjl', 'tang', 'yitie', 'tnj', 'cjzzjl'], 'jiaju'], 'main_03-08': [['jszz'], ['jszk'], ['zyl', 'shuangtong', 'jsz', 'tnj', 'jszz', 'tnjz', 'yms', 'RMA70-12'], 'jiaju'], 'main_04-01': [['lmb'], [], ['yuanyan', 'pszz', 'gyy', 'zhuangzhi', 'gyyz', 'qxzz', 'nzc', 'chijin'], 'jiaju'], 'main_04-02': [['tangzu'], ['tjk'], ['daitang', 'ytsp', 'jczzjl', 'tang', 'yitie', 'cjzzjl', 'tangzu', 'ytz', 'qmk', 'zjzzjl'], 'jiaju'], 'main_04-03': [['zjzzjl'], [], ['yuanyan', 'pszz', 'gyy', 'zhuangzhi', 'gyyz', 'qxzz', 'nzc', 'chijin'], 'jiaju'], 'main_04-04': [['nzc'], ['bmc'], ['yuanyan', 'pszz', 'gyy', 'zhuangzhi', 'gyyz', 'qxzz', 'nzc', 'chijin'], 'jiaju'], 'main_04-05': [['tnjz'], ['tzl'], ['zyl', 'shuangtong', 'jsz', 'tnj', 'jszz', 'tnjz', 'yms', 'RMA70-12'], 'jiaju'], 'main_04-06': [['gyyz'], ['tcyy'], ['yuanyan', 'pszz', 'gyy', 'zhuangzhi', 'gyyz', 'qxzz', 'nzc', 'chijin'], 'jiaju'], 'main_04-07': [['qmk'], ['ssmk'], ['yuanyan', 'pszz', 'gyy', 'zhuangzhi', 'gyyz', 'qxzz', 'nzc', 'chijin'], 'jiaju'], 'main_04-08': [['yms'], ['wsyms'], ['zyl', 'shuangtong', 'jsz', 'tnj', 'jszz', 'tnjz', 'yms', 'RMA70-12'], 'jiaju'], 'main_04-09': [['RMA70-12'], ['RMA70-24'], ['zyl', 'shuangtong', 'jsz', 'tnj', 'jszz', 'tnjz', 'yms', 'RMA70-12'], 'jiaju'], 'main_04-10': [['qxzz'], ['glzz'], ['yuanyan', 'pszz', 'gyy', 'zhuangzhi', 'gyyz', 'qxzz', 'nzc', 'chijin'], 'jiaju'], 'sub_03-1-1': [['tang'], [], ['daitang', 'ytsp', 'shuangtong', 'jczzjl', 'tang', 'yitie', 'tnj', 'cjzzjl'], 'jiaju'], 'sub_03-1-2': [['jsz'], [], ['yuanyan', 'zyl', 'pszz', 'chijin', 'gyy', 'jsz', 'zhuangzhi'], 'jiaju'], 'sub_03-2-1': [['yitie'], [], ['daitang', 'ytsp', 'shuangtong', 'jczzjl', 'tang', 'yitie', 'tnj', 'cjzzjl'], 'jiaju'], 'sub_03-2-2': [['zhuangzhi'], [], ['yuanyan', 'zyl', 'pszz', 'chijin', 'gyy', 'jsz', 'zhuangzhi'], 'jiaju'], 'sub_03-2-3': [[], [], ['daitang', 'ytsp', 'shuangtong', 'jczzjl', 'tang', 'yitie', 'tnj', 'cjzzjl'], 'jiaju'], 'sub_04-1-1': [['ytz'], ['ytk'], ['daitang', 'ytsp', 'jczzjl', 'tang', 'yitie', 'cjzzjl', 'tangzu', 'ytz', 'qmk', 'zjzzjl'], 'jiaju'], 'sub_04-1-2': [[], [], ['zyl', 'shuangtong', 'jsz', 'tnj', 'jszz', 'tnjz', 'yms', 'RMA70-12'], 'jiaju'], 'sub_04-1-3': [[], [], ['daitang', 'ytsp', 'jczzjl', 'tang', 'yitie', 'cjzzjl', 'tangzu', 'ytz', 'qmk', 'zjzzjl'], 'jiaju'], 'sub_04-2-1': [[], [], ['daitang', 'ytsp', 'jczzjl', 'tang', 'yitie', 'cjzzjl', 'tangzu', 'ytz', 'qmk', 'zjzzjl'], 'jiaju'], 'sub_04-2-2': [[], [], ['zyl', 'shuangtong', 'jsz', 'tnj', 'jszz', 'tnjz', 'yms', 'RMA70-12'], 'jiaju'], 'sub_04-2-3': [['lmb'], [], ['daitang', 'ytsp', 'jczzjl', 'tang', 'yitie', 'cjzzjl', 'tangzu', 'ytz', 'qmk', 'zjzzjl'], 'jiaju'], 'sub_04-3-1': [[], [], ['daitang', 'ytsp', 'jczzjl', 'tang', 'yitie', 'cjzzjl', 'tangzu', 'ytz', 'qmk', 'zjzzjl'], 'jiaju'], 'sub_04-3-2': [[], [], ['zyl', 'shuangtong', 'jsz', 'tnj', 'jszz', 'tnjz', 'yms', 'RMA70-12'], 'jiaju'], 'sub_04-3-3': [['zjzzjl'], [], ['daitang', 'ytsp', 'jczzjl', 'tang', 'yitie', 'cjzzjl', 'tangzu', 'ytz', 'qmk', 'zjzzjl'], 'jiaju'], 'wk_melee_1': [['lmb'], [], [], 'jiaju'], 'wk_melee_2': [['lmb'], [], [], 'jiaju'], 'wk_melee_3': [['lmb'], [], [], 'jiaju'], 'wk_melee_4': [['lmb'], [], [], 'jiaju'], 'wk_melee_5': [['lmb'], [], [], 'jiaju'], 'wk_armor_1': [['tan', 'jjlj'], [], [], 'jiaju'], 'wk_armor_2': [['tan', 'jjlj'], [], [], 'jiaju'], 'wk_armor_3': [['tansu', 'tan', 'jjlj'], [], [], 'jiaju'], 'wk_armor_4': [['tsz', 'tansu', 'jjlj'], [], [], 'jiaju'], 'wk_armor_5': [['tsz', 'tansu', 'jjlj'], [], [], 'jiaju'], 'wk_kc_1': [['cjzzjl', 'jczzjl'], [], [], 'jiaju'], 'wk_kc_2': [['cjzzjl', 'jczzjl'], [], [], 'jiaju'], 'wk_kc_3': [['zjzzjl', 'cjzzjl', 'jczzjl'], [], [], 'jiaju'], 'wk_kc_4': [['gjzzjl', 'zjzzjl', 'cjzzjl', 'jczzjl'], [], [], 'jiaju'], 'wk_kc_5': [['gjzzjl', 'zjzzjl', 'cjzzjl'], [], [], 'jiaju'], 'wk_toxic_1': [['cgpz'], [], [], 'jiaju'], 'wk_toxic_2': [['cgpz'], [], [], 'jiaju'], 'wk_toxic_3': [['cgpz'], [], [], 'jiaju'], 'wk_toxic_4': [['cgpz'], [], [], 'jiaju'], 'wk_toxic_5': [['cgpz'], [], [], 'jiaju'], 'wk_fly_1': [['jqgy1'], [], [], 'jiaju'], 'wk_fly_2': [['jqgy1'], [], [], 'jiaju'], 'wk_fly_3': [['jqgy2', 'jqgy1'], [], [], 'jiaju'], 'wk_fly_4': [['jqgy3', 'jqgy2', 'jqgy1'], [], [], 'jiaju'], 'wk_fly_5': [['jqgy3', 'jqgy2', 'jqgy1'], [], [], 'jiaju'], 'pro_a_1': [['zzxp', 'ylxp'], [], [], ''], 'pro_a_2': [['zzxpz', 'ylxpz'], [], [], ''], 'pro_b_1': [['jjxp', 'ssxp'], [], [], ''], 'pro_b_2': [['jjxpz', 'ssxpz'], [], [], ''], 'pro_c_1': [['xfxp', 'fzxp'], [], [], ''], 'pro_c_2': [['xfxpz', 'fzxpz'], [], [], ''], 'pro_d_1': [['jwxp', 'tzxp'], [], [], ''], 'pro_d_2': [['jwxpz', 'tzxpz'], [], [], ''], 'guide_01': [[], [], [], ''], 'guide_02': [[], [], [], ''], 'a001_01': [['zyl', 'yuanyan'], [], [], 'jiaju'], 'a001_02': [['daitang', 'pszz'], [], [], 'jiaju'], 'a001_03': [['yitie', 'tang'], [], [], 'jiaju'], 'a001_04': [['tnj', 'jsz'], [], [], 'jiaju'], 'a001_05': [['nzc'], [], [], 'jiaju'], 'a001_06': [['yms'], [], [], 'jiaju'], 'a001_ex01': [[], [], [], ''], 'a001_ex02': [[], [], [], ''], 'a001_ex03': [[], [], [], ''], 'a001_ex04': [[], [], [], ''], 'a001_ex05': [[], [], [], ''], 'a001_ex06': [[], [], [], ''], 'camp_01': [[], [], [], ''], 'camp_02': [[], [], [], '']}\n"
     ]
    }
   ],
   "source": [
    "stage_drop_item_list_all = {}\n",
    "\n",
    "## Note:\n",
    "# dropType 掉落类型备忘\n",
    "# 1: 首次掉落\n",
    "# 2: 常规掉落 + 固定掉落/罕见掉落/概率掉落\n",
    "# 3: 特殊掉落 (eg: 3-8/聚酸酯块)\n",
    "# 4: 额外掉落 + 小概率掉落\n",
    "# 5: NONE/未使用\n",
    "# 6: 首次三星掉合成玉\n",
    "# 7: 幸运掉落/掉家具\n",
    "# >7: NONE/未使用\n",
    "\n",
    "for i in all_stages:\n",
    "    stage_dict = json_stage_data[\"stages\"][i]\n",
    "    stage_id = stage_dict[\"stageId\"]\n",
    "    stage_drop_item_list_all[stage_id] = [[], [], [], \"\"]\n",
    "    \n",
    "    drop_info = stage_dict[\"stageDropInfo\"][\"displayDetailRewards\"]\n",
    "    if not drop_info:\n",
    "        continue\n",
    "    for drop in drop_info:\n",
    "        ids = drop[\"id\"]\n",
    "        item_type = drop[\"type\"]\n",
    "        drop_type = drop[\"dropType\"]\n",
    "        \n",
    "        # 排除 1-首次掉落；6: 首次三星掉合成玉\n",
    "        #   人物掉落；活动硬币掉落\n",
    "        if (drop_type in [1, 6]) \\\n",
    "            or (item_type in [\"CHAR\", \"ACTIVITY_COIN\"]):\n",
    "            continue\n",
    "\n",
    "        if item_type==\"FURN\": # 只添加一次家具\n",
    "            if (stage_drop_item_list_all[stage_id][3]==\"\"):\n",
    "                stage_drop_item_list_all[stage_id][3]=\"jiaju\"\n",
    "            else:\n",
    "                continue\n",
    "        else: # 非家具  \n",
    "            item_name = g_itemId2names_dict[ids][0] # 1: 中文, 0 缩写\n",
    "            \n",
    "            # 这里按 [[常规]，[特殊]，[额外], \"jiaju\"] 的顺序储存\n",
    "            stage_drop_item_list_all[stage_id][drop_type-2] += [item_name] \n",
    "\n",
    "print(stage_drop_item_list_all)"
   ]
  },
  {
   "cell_type": "markdown",
   "metadata": {},
   "source": [
    "----"
   ]
  },
  {
   "cell_type": "code",
   "execution_count": null,
   "metadata": {},
   "outputs": [],
   "source": []
  }
 ],
 "metadata": {
  "kernelspec": {
   "display_name": "Python 3",
   "language": "python",
   "name": "python3"
  },
  "language_info": {
   "codemirror_mode": {
    "name": "ipython",
    "version": 3
   },
   "file_extension": ".py",
   "mimetype": "text/x-python",
   "name": "python",
   "nbconvert_exporter": "python",
   "pygments_lexer": "ipython3",
   "version": "3.7.1"
  }
 },
 "nbformat": 4,
 "nbformat_minor": 2
}
